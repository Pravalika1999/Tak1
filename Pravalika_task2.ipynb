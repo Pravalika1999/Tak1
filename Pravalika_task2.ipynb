{
  "nbformat": 4,
  "nbformat_minor": 0,
  "metadata": {
    "colab": {
      "provenance": [],
      "authorship_tag": "ABX9TyProlBzRZ8QxYlEEgbq/SQa",
      "include_colab_link": true
    },
    "kernelspec": {
      "name": "python3",
      "display_name": "Python 3"
    },
    "language_info": {
      "name": "python"
    }
  },
  "cells": [
    {
      "cell_type": "markdown",
      "metadata": {
        "id": "view-in-github",
        "colab_type": "text"
      },
      "source": [
        "<a href=\"https://colab.research.google.com/github/Pravalika1999/Tak1/blob/main/Pravalika_task2.ipynb\" target=\"_parent\"><img src=\"https://colab.research.google.com/assets/colab-badge.svg\" alt=\"Open In Colab\"/></a>"
      ]
    },
    {
      "cell_type": "code",
      "execution_count": null,
      "metadata": {
        "id": "Se_nuDDnTYKi"
      },
      "outputs": [],
      "source": [
        "import pandas as pd\n",
        "\n",
        "# Load the dataset\n",
        "data = pd.read_excel('/content/DA -Task 2..xlsx')\n",
        "\n",
        "# Column-wise analysis\n",
        "column_analysis = {}\n",
        "for column in data.columns:\n",
        "    column_analysis[column] = {\n",
        "        'data_type': data[column].dtype,\n",
        "        'unique_values': data[column].nunique(),\n",
        "        'distribution': data[column].value_counts(),\n",
        "        'significance': 'Describe significance here'  # Customize this based on your understanding\n",
        "    }\n",
        "\n",
        "# Convert to DataFrame for better visualization\n",
        "column_analysis_df = pd.DataFrame(column_analysis).T\n",
        "print(column_analysis_df)"
      ]
    },
    {
      "cell_type": "code",
      "source": [
        "import pandas as pd\n",
        "import matplotlib.pyplot as plt\n",
        "import seaborn as sns\n",
        "\n",
        "# Load the dataset\n",
        "df = pd.read_excel('/content/DA -Task 2..xlsx')\n",
        "\n",
        "# Example visualizations\n",
        "# 1. Bar plot for categorical column\n",
        "sns.countplot(data=df, x='CategoryColumn')\n",
        "plt.title('Distribution of CategoryColumn')\n",
        "plt.show()\n",
        "\n",
        "# 2. Histogram for numerical column\n",
        "plt.hist(df['NumericalColumn'], bins=30)\n",
        "plt.title('Distribution of NumericalColumn')\n",
        "plt.xlabel('Value')\n",
        "plt.ylabel('Frequency')\n",
        "plt.show()\n",
        "\n",
        "# 3. Box plot to identify outliers\n",
        "sns.boxplot(data=df, x='NumericalColumn')\n",
        "plt.title('Box Plot of NumericalColumn')\n",
        "plt.show()"
      ],
      "metadata": {
        "id": "IYQ-04vuU05b"
      },
      "execution_count": null,
      "outputs": []
    }
  ]
}